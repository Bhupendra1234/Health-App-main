{
  "nbformat": 4,
  "nbformat_minor": 0,
  "metadata": {
    "kernelspec": {
      "name": "python3",
      "display_name": "Python 3.9.5 64-bit"
    },
    "language_info": {
      "codemirror_mode": {
        "name": "ipython",
        "version": 2
      },
      "file_extension": ".py",
      "mimetype": "text/x-python",
      "name": "python",
      "nbconvert_exporter": "python",
      "pygments_lexer": "ipython2",
      "version": "3.9.5"
    },
    "colab": {
      "name": "cancer.ipynb",
      "provenance": [],
      "collapsed_sections": []
    },
    "interpreter": {
      "hash": "acdf4394f2c1f5af2eb016d1909005fcd8dee6181d6dea96ed8472aae44f0666"
    }
  },
  "cells": [
    {
      "cell_type": "code",
      "metadata": {
        "collapsed": true,
        "id": "0uVkYGgUV_gJ"
      },
      "source": [
        "import pandas as pd\n",
        "import numpy as np\n",
        "import seaborn as sns\n",
        "import matplotlib.pyplot as plt\n",
        "import joblib\n",
        "\n",
        "import warnings\n",
        "warnings.filterwarnings('ignore')\n",
        "\n",
        "\n",
        "plt.style.use('ggplot')"
      ],
      "execution_count": 67,
      "outputs": []
    },
    {
      "cell_type": "code",
      "metadata": {
        "id": "l7Lw913IgzVF"
      },
      "source": [],
      "execution_count": null,
      "outputs": []
    },
    {
      "cell_type": "code",
      "metadata": {
        "colab": {
          "base_uri": "https://localhost:8080/",
          "height": 456
        },
        "id": "2TLrNARaYx1J",
        "outputId": "51c116a1-77d5-49d5-fb2f-d381c29e3558"
      },
      "source": [
        "df = pd.read_csv('../data/cancer.csv')\n",
        "df"
      ],
      "execution_count": 68,
      "outputs": [
        {
          "output_type": "execute_result",
          "data": {
            "text/plain": [
              "           id diagnosis  radius_mean  texture_mean  perimeter_mean  area_mean  \\\n",
              "0      842302         M        17.99         10.38          122.80     1001.0   \n",
              "1      842517         M        20.57         17.77          132.90     1326.0   \n",
              "2    84300903         M        19.69         21.25          130.00     1203.0   \n",
              "3    84348301         M        11.42         20.38           77.58      386.1   \n",
              "4    84358402         M        20.29         14.34          135.10     1297.0   \n",
              "..        ...       ...          ...           ...             ...        ...   \n",
              "564    926424         M        21.56         22.39          142.00     1479.0   \n",
              "565    926682         M        20.13         28.25          131.20     1261.0   \n",
              "566    926954         M        16.60         28.08          108.30      858.1   \n",
              "567    927241         M        20.60         29.33          140.10     1265.0   \n",
              "568     92751         B         7.76         24.54           47.92      181.0   \n",
              "\n",
              "     smoothness_mean  compactness_mean  concavity_mean  concave points_mean  \\\n",
              "0              0.118             0.278           0.300                0.147   \n",
              "1              0.085             0.079           0.087                0.070   \n",
              "2              0.110             0.160           0.197                0.128   \n",
              "3              0.142             0.284           0.241                0.105   \n",
              "4              0.100             0.133           0.198                0.104   \n",
              "..               ...               ...             ...                  ...   \n",
              "564            0.111             0.116           0.244                0.139   \n",
              "565            0.098             0.103           0.144                0.098   \n",
              "566            0.085             0.102           0.093                0.053   \n",
              "567            0.118             0.277           0.351                0.152   \n",
              "568            0.053             0.044           0.000                0.000   \n",
              "\n",
              "     symmetry_mean  fractal_dimension_mean  radius_se  texture_se  \\\n",
              "0            0.242                   0.079      1.095       0.905   \n",
              "1            0.181                   0.057      0.543       0.734   \n",
              "2            0.207                   0.060      0.746       0.787   \n",
              "3            0.260                   0.097      0.496       1.156   \n",
              "4            0.181                   0.059      0.757       0.781   \n",
              "..             ...                     ...        ...         ...   \n",
              "564          0.173                   0.056      1.176       1.256   \n",
              "565          0.175                   0.055      0.765       2.463   \n",
              "566          0.159                   0.056      0.456       1.075   \n",
              "567          0.240                   0.070      0.726       1.595   \n",
              "568          0.159                   0.059      0.386       1.428   \n",
              "\n",
              "     perimeter_se  area_se  smoothness_se  compactness_se  concavity_se  \\\n",
              "0           8.589   153.40          0.006           0.049         0.054   \n",
              "1           3.398    74.08          0.005           0.013         0.019   \n",
              "2           4.585    94.03          0.006           0.040         0.038   \n",
              "3           3.445    27.23          0.009           0.075         0.057   \n",
              "4           5.438    94.44          0.011           0.025         0.057   \n",
              "..            ...      ...            ...             ...           ...   \n",
              "564         7.673   158.70          0.010           0.029         0.052   \n",
              "565         5.203    99.04          0.006           0.024         0.040   \n",
              "566         3.425    48.55          0.006           0.037         0.047   \n",
              "567         5.772    86.22          0.007           0.062         0.071   \n",
              "568         2.548    19.15          0.007           0.005         0.000   \n",
              "\n",
              "     concave points_se  symmetry_se  fractal_dimension_se  radius_worst  \\\n",
              "0                0.016        0.030                 0.006        25.380   \n",
              "1                0.013        0.014                 0.004        24.990   \n",
              "2                0.021        0.022                 0.005        23.570   \n",
              "3                0.019        0.060                 0.009        14.910   \n",
              "4                0.019        0.018                 0.005        22.540   \n",
              "..                 ...          ...                   ...           ...   \n",
              "564              0.025        0.011                 0.004        25.450   \n",
              "565              0.017        0.019                 0.002        23.690   \n",
              "566              0.016        0.013                 0.004        18.980   \n",
              "567              0.017        0.023                 0.006        25.740   \n",
              "568              0.000        0.027                 0.003         9.456   \n",
              "\n",
              "     texture_worst  perimeter_worst  area_worst  smoothness_worst  \\\n",
              "0            17.33           184.60      2019.0             0.162   \n",
              "1            23.41           158.80      1956.0             0.124   \n",
              "2            25.53           152.50      1709.0             0.144   \n",
              "3            26.50            98.87       567.7             0.210   \n",
              "4            16.67           152.20      1575.0             0.137   \n",
              "..             ...              ...         ...               ...   \n",
              "564          26.40           166.10      2027.0             0.141   \n",
              "565          38.25           155.00      1731.0             0.117   \n",
              "566          34.12           126.70      1124.0             0.114   \n",
              "567          39.42           184.60      1821.0             0.165   \n",
              "568          30.37            59.16       268.6             0.090   \n",
              "\n",
              "     compactness_worst  concavity_worst  concave points_worst  symmetry_worst  \\\n",
              "0                0.666            0.712                 0.265           0.460   \n",
              "1                0.187            0.242                 0.186           0.275   \n",
              "2                0.424            0.450                 0.243           0.361   \n",
              "3                0.866            0.687                 0.258           0.664   \n",
              "4                0.205            0.400                 0.163           0.236   \n",
              "..                 ...              ...                   ...             ...   \n",
              "564              0.211            0.411                 0.222           0.206   \n",
              "565              0.192            0.322                 0.163           0.257   \n",
              "566              0.309            0.340                 0.142           0.222   \n",
              "567              0.868            0.939                 0.265           0.409   \n",
              "568              0.064            0.000                 0.000           0.287   \n",
              "\n",
              "     fractal_dimension_worst  Unnamed: 32  \n",
              "0                      0.119          NaN  \n",
              "1                      0.089          NaN  \n",
              "2                      0.088          NaN  \n",
              "3                      0.173          NaN  \n",
              "4                      0.077          NaN  \n",
              "..                       ...          ...  \n",
              "564                    0.071          NaN  \n",
              "565                    0.066          NaN  \n",
              "566                    0.078          NaN  \n",
              "567                    0.124          NaN  \n",
              "568                    0.070          NaN  \n",
              "\n",
              "[569 rows x 33 columns]"
            ],
            "text/html": "<div>\n<style scoped>\n    .dataframe tbody tr th:only-of-type {\n        vertical-align: middle;\n    }\n\n    .dataframe tbody tr th {\n        vertical-align: top;\n    }\n\n    .dataframe thead th {\n        text-align: right;\n    }\n</style>\n<table border=\"1\" class=\"dataframe\">\n  <thead>\n    <tr style=\"text-align: right;\">\n      <th></th>\n      <th>id</th>\n      <th>diagnosis</th>\n      <th>radius_mean</th>\n      <th>texture_mean</th>\n      <th>perimeter_mean</th>\n      <th>area_mean</th>\n      <th>smoothness_mean</th>\n      <th>compactness_mean</th>\n      <th>concavity_mean</th>\n      <th>concave points_mean</th>\n      <th>symmetry_mean</th>\n      <th>fractal_dimension_mean</th>\n      <th>radius_se</th>\n      <th>texture_se</th>\n      <th>perimeter_se</th>\n      <th>area_se</th>\n      <th>smoothness_se</th>\n      <th>compactness_se</th>\n      <th>concavity_se</th>\n      <th>concave points_se</th>\n      <th>symmetry_se</th>\n      <th>fractal_dimension_se</th>\n      <th>radius_worst</th>\n      <th>texture_worst</th>\n      <th>perimeter_worst</th>\n      <th>area_worst</th>\n      <th>smoothness_worst</th>\n      <th>compactness_worst</th>\n      <th>concavity_worst</th>\n      <th>concave points_worst</th>\n      <th>symmetry_worst</th>\n      <th>fractal_dimension_worst</th>\n      <th>Unnamed: 32</th>\n    </tr>\n  </thead>\n  <tbody>\n    <tr>\n      <th>0</th>\n      <td>842302</td>\n      <td>M</td>\n      <td>17.99</td>\n      <td>10.38</td>\n      <td>122.80</td>\n      <td>1001.0</td>\n      <td>0.118</td>\n      <td>0.278</td>\n      <td>0.300</td>\n      <td>0.147</td>\n      <td>0.242</td>\n      <td>0.079</td>\n      <td>1.095</td>\n      <td>0.905</td>\n      <td>8.589</td>\n      <td>153.40</td>\n      <td>0.006</td>\n      <td>0.049</td>\n      <td>0.054</td>\n      <td>0.016</td>\n      <td>0.030</td>\n      <td>0.006</td>\n      <td>25.380</td>\n      <td>17.33</td>\n      <td>184.60</td>\n      <td>2019.0</td>\n      <td>0.162</td>\n      <td>0.666</td>\n      <td>0.712</td>\n      <td>0.265</td>\n      <td>0.460</td>\n      <td>0.119</td>\n      <td>NaN</td>\n    </tr>\n    <tr>\n      <th>1</th>\n      <td>842517</td>\n      <td>M</td>\n      <td>20.57</td>\n      <td>17.77</td>\n      <td>132.90</td>\n      <td>1326.0</td>\n      <td>0.085</td>\n      <td>0.079</td>\n      <td>0.087</td>\n      <td>0.070</td>\n      <td>0.181</td>\n      <td>0.057</td>\n      <td>0.543</td>\n      <td>0.734</td>\n      <td>3.398</td>\n      <td>74.08</td>\n      <td>0.005</td>\n      <td>0.013</td>\n      <td>0.019</td>\n      <td>0.013</td>\n      <td>0.014</td>\n      <td>0.004</td>\n      <td>24.990</td>\n      <td>23.41</td>\n      <td>158.80</td>\n      <td>1956.0</td>\n      <td>0.124</td>\n      <td>0.187</td>\n      <td>0.242</td>\n      <td>0.186</td>\n      <td>0.275</td>\n      <td>0.089</td>\n      <td>NaN</td>\n    </tr>\n    <tr>\n      <th>2</th>\n      <td>84300903</td>\n      <td>M</td>\n      <td>19.69</td>\n      <td>21.25</td>\n      <td>130.00</td>\n      <td>1203.0</td>\n      <td>0.110</td>\n      <td>0.160</td>\n      <td>0.197</td>\n      <td>0.128</td>\n      <td>0.207</td>\n      <td>0.060</td>\n      <td>0.746</td>\n      <td>0.787</td>\n      <td>4.585</td>\n      <td>94.03</td>\n      <td>0.006</td>\n      <td>0.040</td>\n      <td>0.038</td>\n      <td>0.021</td>\n      <td>0.022</td>\n      <td>0.005</td>\n      <td>23.570</td>\n      <td>25.53</td>\n      <td>152.50</td>\n      <td>1709.0</td>\n      <td>0.144</td>\n      <td>0.424</td>\n      <td>0.450</td>\n      <td>0.243</td>\n      <td>0.361</td>\n      <td>0.088</td>\n      <td>NaN</td>\n    </tr>\n    <tr>\n      <th>3</th>\n      <td>84348301</td>\n      <td>M</td>\n      <td>11.42</td>\n      <td>20.38</td>\n      <td>77.58</td>\n      <td>386.1</td>\n      <td>0.142</td>\n      <td>0.284</td>\n      <td>0.241</td>\n      <td>0.105</td>\n      <td>0.260</td>\n      <td>0.097</td>\n      <td>0.496</td>\n      <td>1.156</td>\n      <td>3.445</td>\n      <td>27.23</td>\n      <td>0.009</td>\n      <td>0.075</td>\n      <td>0.057</td>\n      <td>0.019</td>\n      <td>0.060</td>\n      <td>0.009</td>\n      <td>14.910</td>\n      <td>26.50</td>\n      <td>98.87</td>\n      <td>567.7</td>\n      <td>0.210</td>\n      <td>0.866</td>\n      <td>0.687</td>\n      <td>0.258</td>\n      <td>0.664</td>\n      <td>0.173</td>\n      <td>NaN</td>\n    </tr>\n    <tr>\n      <th>4</th>\n      <td>84358402</td>\n      <td>M</td>\n      <td>20.29</td>\n      <td>14.34</td>\n      <td>135.10</td>\n      <td>1297.0</td>\n      <td>0.100</td>\n      <td>0.133</td>\n      <td>0.198</td>\n      <td>0.104</td>\n      <td>0.181</td>\n      <td>0.059</td>\n      <td>0.757</td>\n      <td>0.781</td>\n      <td>5.438</td>\n      <td>94.44</td>\n      <td>0.011</td>\n      <td>0.025</td>\n      <td>0.057</td>\n      <td>0.019</td>\n      <td>0.018</td>\n      <td>0.005</td>\n      <td>22.540</td>\n      <td>16.67</td>\n      <td>152.20</td>\n      <td>1575.0</td>\n      <td>0.137</td>\n      <td>0.205</td>\n      <td>0.400</td>\n      <td>0.163</td>\n      <td>0.236</td>\n      <td>0.077</td>\n      <td>NaN</td>\n    </tr>\n    <tr>\n      <th>...</th>\n      <td>...</td>\n      <td>...</td>\n      <td>...</td>\n      <td>...</td>\n      <td>...</td>\n      <td>...</td>\n      <td>...</td>\n      <td>...</td>\n      <td>...</td>\n      <td>...</td>\n      <td>...</td>\n      <td>...</td>\n      <td>...</td>\n      <td>...</td>\n      <td>...</td>\n      <td>...</td>\n      <td>...</td>\n      <td>...</td>\n      <td>...</td>\n      <td>...</td>\n      <td>...</td>\n      <td>...</td>\n      <td>...</td>\n      <td>...</td>\n      <td>...</td>\n      <td>...</td>\n      <td>...</td>\n      <td>...</td>\n      <td>...</td>\n      <td>...</td>\n      <td>...</td>\n      <td>...</td>\n      <td>...</td>\n    </tr>\n    <tr>\n      <th>564</th>\n      <td>926424</td>\n      <td>M</td>\n      <td>21.56</td>\n      <td>22.39</td>\n      <td>142.00</td>\n      <td>1479.0</td>\n      <td>0.111</td>\n      <td>0.116</td>\n      <td>0.244</td>\n      <td>0.139</td>\n      <td>0.173</td>\n      <td>0.056</td>\n      <td>1.176</td>\n      <td>1.256</td>\n      <td>7.673</td>\n      <td>158.70</td>\n      <td>0.010</td>\n      <td>0.029</td>\n      <td>0.052</td>\n      <td>0.025</td>\n      <td>0.011</td>\n      <td>0.004</td>\n      <td>25.450</td>\n      <td>26.40</td>\n      <td>166.10</td>\n      <td>2027.0</td>\n      <td>0.141</td>\n      <td>0.211</td>\n      <td>0.411</td>\n      <td>0.222</td>\n      <td>0.206</td>\n      <td>0.071</td>\n      <td>NaN</td>\n    </tr>\n    <tr>\n      <th>565</th>\n      <td>926682</td>\n      <td>M</td>\n      <td>20.13</td>\n      <td>28.25</td>\n      <td>131.20</td>\n      <td>1261.0</td>\n      <td>0.098</td>\n      <td>0.103</td>\n      <td>0.144</td>\n      <td>0.098</td>\n      <td>0.175</td>\n      <td>0.055</td>\n      <td>0.765</td>\n      <td>2.463</td>\n      <td>5.203</td>\n      <td>99.04</td>\n      <td>0.006</td>\n      <td>0.024</td>\n      <td>0.040</td>\n      <td>0.017</td>\n      <td>0.019</td>\n      <td>0.002</td>\n      <td>23.690</td>\n      <td>38.25</td>\n      <td>155.00</td>\n      <td>1731.0</td>\n      <td>0.117</td>\n      <td>0.192</td>\n      <td>0.322</td>\n      <td>0.163</td>\n      <td>0.257</td>\n      <td>0.066</td>\n      <td>NaN</td>\n    </tr>\n    <tr>\n      <th>566</th>\n      <td>926954</td>\n      <td>M</td>\n      <td>16.60</td>\n      <td>28.08</td>\n      <td>108.30</td>\n      <td>858.1</td>\n      <td>0.085</td>\n      <td>0.102</td>\n      <td>0.093</td>\n      <td>0.053</td>\n      <td>0.159</td>\n      <td>0.056</td>\n      <td>0.456</td>\n      <td>1.075</td>\n      <td>3.425</td>\n      <td>48.55</td>\n      <td>0.006</td>\n      <td>0.037</td>\n      <td>0.047</td>\n      <td>0.016</td>\n      <td>0.013</td>\n      <td>0.004</td>\n      <td>18.980</td>\n      <td>34.12</td>\n      <td>126.70</td>\n      <td>1124.0</td>\n      <td>0.114</td>\n      <td>0.309</td>\n      <td>0.340</td>\n      <td>0.142</td>\n      <td>0.222</td>\n      <td>0.078</td>\n      <td>NaN</td>\n    </tr>\n    <tr>\n      <th>567</th>\n      <td>927241</td>\n      <td>M</td>\n      <td>20.60</td>\n      <td>29.33</td>\n      <td>140.10</td>\n      <td>1265.0</td>\n      <td>0.118</td>\n      <td>0.277</td>\n      <td>0.351</td>\n      <td>0.152</td>\n      <td>0.240</td>\n      <td>0.070</td>\n      <td>0.726</td>\n      <td>1.595</td>\n      <td>5.772</td>\n      <td>86.22</td>\n      <td>0.007</td>\n      <td>0.062</td>\n      <td>0.071</td>\n      <td>0.017</td>\n      <td>0.023</td>\n      <td>0.006</td>\n      <td>25.740</td>\n      <td>39.42</td>\n      <td>184.60</td>\n      <td>1821.0</td>\n      <td>0.165</td>\n      <td>0.868</td>\n      <td>0.939</td>\n      <td>0.265</td>\n      <td>0.409</td>\n      <td>0.124</td>\n      <td>NaN</td>\n    </tr>\n    <tr>\n      <th>568</th>\n      <td>92751</td>\n      <td>B</td>\n      <td>7.76</td>\n      <td>24.54</td>\n      <td>47.92</td>\n      <td>181.0</td>\n      <td>0.053</td>\n      <td>0.044</td>\n      <td>0.000</td>\n      <td>0.000</td>\n      <td>0.159</td>\n      <td>0.059</td>\n      <td>0.386</td>\n      <td>1.428</td>\n      <td>2.548</td>\n      <td>19.15</td>\n      <td>0.007</td>\n      <td>0.005</td>\n      <td>0.000</td>\n      <td>0.000</td>\n      <td>0.027</td>\n      <td>0.003</td>\n      <td>9.456</td>\n      <td>30.37</td>\n      <td>59.16</td>\n      <td>268.6</td>\n      <td>0.090</td>\n      <td>0.064</td>\n      <td>0.000</td>\n      <td>0.000</td>\n      <td>0.287</td>\n      <td>0.070</td>\n      <td>NaN</td>\n    </tr>\n  </tbody>\n</table>\n<p>569 rows × 33 columns</p>\n</div>"
          },
          "metadata": {},
          "execution_count": 68
        }
      ]
    },
    {
      "cell_type": "code",
      "metadata": {
        "pycharm": {
          "name": "#%%\n"
        },
        "id": "PSGAgOu6V_gQ",
        "colab": {
          "base_uri": "https://localhost:8080/",
          "height": 241
        },
        "outputId": "22124ff4-c55d-4c68-9855-7123ab0ae181"
      },
      "source": [
        "\n",
        "pd.set_option('max_columns',33)\n",
        "df.head()"
      ],
      "execution_count": 69,
      "outputs": [
        {
          "output_type": "execute_result",
          "data": {
            "text/plain": [
              "         id diagnosis  radius_mean  texture_mean  perimeter_mean  area_mean  \\\n",
              "0    842302         M        17.99         10.38          122.80     1001.0   \n",
              "1    842517         M        20.57         17.77          132.90     1326.0   \n",
              "2  84300903         M        19.69         21.25          130.00     1203.0   \n",
              "3  84348301         M        11.42         20.38           77.58      386.1   \n",
              "4  84358402         M        20.29         14.34          135.10     1297.0   \n",
              "\n",
              "   smoothness_mean  compactness_mean  concavity_mean  concave points_mean  \\\n",
              "0            0.118             0.278           0.300                0.147   \n",
              "1            0.085             0.079           0.087                0.070   \n",
              "2            0.110             0.160           0.197                0.128   \n",
              "3            0.142             0.284           0.241                0.105   \n",
              "4            0.100             0.133           0.198                0.104   \n",
              "\n",
              "   symmetry_mean  fractal_dimension_mean  radius_se  texture_se  perimeter_se  \\\n",
              "0          0.242                   0.079      1.095       0.905         8.589   \n",
              "1          0.181                   0.057      0.543       0.734         3.398   \n",
              "2          0.207                   0.060      0.746       0.787         4.585   \n",
              "3          0.260                   0.097      0.496       1.156         3.445   \n",
              "4          0.181                   0.059      0.757       0.781         5.438   \n",
              "\n",
              "   area_se  smoothness_se  compactness_se  concavity_se  concave points_se  \\\n",
              "0   153.40          0.006           0.049         0.054              0.016   \n",
              "1    74.08          0.005           0.013         0.019              0.013   \n",
              "2    94.03          0.006           0.040         0.038              0.021   \n",
              "3    27.23          0.009           0.075         0.057              0.019   \n",
              "4    94.44          0.011           0.025         0.057              0.019   \n",
              "\n",
              "   symmetry_se  fractal_dimension_se  radius_worst  texture_worst  \\\n",
              "0        0.030                 0.006         25.38          17.33   \n",
              "1        0.014                 0.004         24.99          23.41   \n",
              "2        0.022                 0.005         23.57          25.53   \n",
              "3        0.060                 0.009         14.91          26.50   \n",
              "4        0.018                 0.005         22.54          16.67   \n",
              "\n",
              "   perimeter_worst  area_worst  smoothness_worst  compactness_worst  \\\n",
              "0           184.60      2019.0             0.162              0.666   \n",
              "1           158.80      1956.0             0.124              0.187   \n",
              "2           152.50      1709.0             0.144              0.424   \n",
              "3            98.87       567.7             0.210              0.866   \n",
              "4           152.20      1575.0             0.137              0.205   \n",
              "\n",
              "   concavity_worst  concave points_worst  symmetry_worst  \\\n",
              "0            0.712                 0.265           0.460   \n",
              "1            0.242                 0.186           0.275   \n",
              "2            0.450                 0.243           0.361   \n",
              "3            0.687                 0.258           0.664   \n",
              "4            0.400                 0.163           0.236   \n",
              "\n",
              "   fractal_dimension_worst  Unnamed: 32  \n",
              "0                    0.119          NaN  \n",
              "1                    0.089          NaN  \n",
              "2                    0.088          NaN  \n",
              "3                    0.173          NaN  \n",
              "4                    0.077          NaN  "
            ],
            "text/html": "<div>\n<style scoped>\n    .dataframe tbody tr th:only-of-type {\n        vertical-align: middle;\n    }\n\n    .dataframe tbody tr th {\n        vertical-align: top;\n    }\n\n    .dataframe thead th {\n        text-align: right;\n    }\n</style>\n<table border=\"1\" class=\"dataframe\">\n  <thead>\n    <tr style=\"text-align: right;\">\n      <th></th>\n      <th>id</th>\n      <th>diagnosis</th>\n      <th>radius_mean</th>\n      <th>texture_mean</th>\n      <th>perimeter_mean</th>\n      <th>area_mean</th>\n      <th>smoothness_mean</th>\n      <th>compactness_mean</th>\n      <th>concavity_mean</th>\n      <th>concave points_mean</th>\n      <th>symmetry_mean</th>\n      <th>fractal_dimension_mean</th>\n      <th>radius_se</th>\n      <th>texture_se</th>\n      <th>perimeter_se</th>\n      <th>area_se</th>\n      <th>smoothness_se</th>\n      <th>compactness_se</th>\n      <th>concavity_se</th>\n      <th>concave points_se</th>\n      <th>symmetry_se</th>\n      <th>fractal_dimension_se</th>\n      <th>radius_worst</th>\n      <th>texture_worst</th>\n      <th>perimeter_worst</th>\n      <th>area_worst</th>\n      <th>smoothness_worst</th>\n      <th>compactness_worst</th>\n      <th>concavity_worst</th>\n      <th>concave points_worst</th>\n      <th>symmetry_worst</th>\n      <th>fractal_dimension_worst</th>\n      <th>Unnamed: 32</th>\n    </tr>\n  </thead>\n  <tbody>\n    <tr>\n      <th>0</th>\n      <td>842302</td>\n      <td>M</td>\n      <td>17.99</td>\n      <td>10.38</td>\n      <td>122.80</td>\n      <td>1001.0</td>\n      <td>0.118</td>\n      <td>0.278</td>\n      <td>0.300</td>\n      <td>0.147</td>\n      <td>0.242</td>\n      <td>0.079</td>\n      <td>1.095</td>\n      <td>0.905</td>\n      <td>8.589</td>\n      <td>153.40</td>\n      <td>0.006</td>\n      <td>0.049</td>\n      <td>0.054</td>\n      <td>0.016</td>\n      <td>0.030</td>\n      <td>0.006</td>\n      <td>25.38</td>\n      <td>17.33</td>\n      <td>184.60</td>\n      <td>2019.0</td>\n      <td>0.162</td>\n      <td>0.666</td>\n      <td>0.712</td>\n      <td>0.265</td>\n      <td>0.460</td>\n      <td>0.119</td>\n      <td>NaN</td>\n    </tr>\n    <tr>\n      <th>1</th>\n      <td>842517</td>\n      <td>M</td>\n      <td>20.57</td>\n      <td>17.77</td>\n      <td>132.90</td>\n      <td>1326.0</td>\n      <td>0.085</td>\n      <td>0.079</td>\n      <td>0.087</td>\n      <td>0.070</td>\n      <td>0.181</td>\n      <td>0.057</td>\n      <td>0.543</td>\n      <td>0.734</td>\n      <td>3.398</td>\n      <td>74.08</td>\n      <td>0.005</td>\n      <td>0.013</td>\n      <td>0.019</td>\n      <td>0.013</td>\n      <td>0.014</td>\n      <td>0.004</td>\n      <td>24.99</td>\n      <td>23.41</td>\n      <td>158.80</td>\n      <td>1956.0</td>\n      <td>0.124</td>\n      <td>0.187</td>\n      <td>0.242</td>\n      <td>0.186</td>\n      <td>0.275</td>\n      <td>0.089</td>\n      <td>NaN</td>\n    </tr>\n    <tr>\n      <th>2</th>\n      <td>84300903</td>\n      <td>M</td>\n      <td>19.69</td>\n      <td>21.25</td>\n      <td>130.00</td>\n      <td>1203.0</td>\n      <td>0.110</td>\n      <td>0.160</td>\n      <td>0.197</td>\n      <td>0.128</td>\n      <td>0.207</td>\n      <td>0.060</td>\n      <td>0.746</td>\n      <td>0.787</td>\n      <td>4.585</td>\n      <td>94.03</td>\n      <td>0.006</td>\n      <td>0.040</td>\n      <td>0.038</td>\n      <td>0.021</td>\n      <td>0.022</td>\n      <td>0.005</td>\n      <td>23.57</td>\n      <td>25.53</td>\n      <td>152.50</td>\n      <td>1709.0</td>\n      <td>0.144</td>\n      <td>0.424</td>\n      <td>0.450</td>\n      <td>0.243</td>\n      <td>0.361</td>\n      <td>0.088</td>\n      <td>NaN</td>\n    </tr>\n    <tr>\n      <th>3</th>\n      <td>84348301</td>\n      <td>M</td>\n      <td>11.42</td>\n      <td>20.38</td>\n      <td>77.58</td>\n      <td>386.1</td>\n      <td>0.142</td>\n      <td>0.284</td>\n      <td>0.241</td>\n      <td>0.105</td>\n      <td>0.260</td>\n      <td>0.097</td>\n      <td>0.496</td>\n      <td>1.156</td>\n      <td>3.445</td>\n      <td>27.23</td>\n      <td>0.009</td>\n      <td>0.075</td>\n      <td>0.057</td>\n      <td>0.019</td>\n      <td>0.060</td>\n      <td>0.009</td>\n      <td>14.91</td>\n      <td>26.50</td>\n      <td>98.87</td>\n      <td>567.7</td>\n      <td>0.210</td>\n      <td>0.866</td>\n      <td>0.687</td>\n      <td>0.258</td>\n      <td>0.664</td>\n      <td>0.173</td>\n      <td>NaN</td>\n    </tr>\n    <tr>\n      <th>4</th>\n      <td>84358402</td>\n      <td>M</td>\n      <td>20.29</td>\n      <td>14.34</td>\n      <td>135.10</td>\n      <td>1297.0</td>\n      <td>0.100</td>\n      <td>0.133</td>\n      <td>0.198</td>\n      <td>0.104</td>\n      <td>0.181</td>\n      <td>0.059</td>\n      <td>0.757</td>\n      <td>0.781</td>\n      <td>5.438</td>\n      <td>94.44</td>\n      <td>0.011</td>\n      <td>0.025</td>\n      <td>0.057</td>\n      <td>0.019</td>\n      <td>0.018</td>\n      <td>0.005</td>\n      <td>22.54</td>\n      <td>16.67</td>\n      <td>152.20</td>\n      <td>1575.0</td>\n      <td>0.137</td>\n      <td>0.205</td>\n      <td>0.400</td>\n      <td>0.163</td>\n      <td>0.236</td>\n      <td>0.077</td>\n      <td>NaN</td>\n    </tr>\n  </tbody>\n</table>\n</div>"
          },
          "metadata": {},
          "execution_count": 69
        }
      ]
    },
    {
      "cell_type": "code",
      "metadata": {
        "pycharm": {
          "name": "#%%\n"
        },
        "id": "xtA5d37EV_gT"
      },
      "source": [
        "df.drop('Unnamed: 32', axis = 1, inplace = True)"
      ],
      "execution_count": 70,
      "outputs": []
    },
    {
      "cell_type": "code",
      "metadata": {
        "pycharm": {
          "name": "#%%\n"
        },
        "id": "f-ypDXuOV_gT",
        "colab": {
          "base_uri": "https://localhost:8080/"
        },
        "outputId": "e5174e1d-3de2-4ddd-9b93-4b6c04dd8fca"
      },
      "source": [
        "df.diagnosis.unique()\n"
      ],
      "execution_count": 71,
      "outputs": [
        {
          "output_type": "execute_result",
          "data": {
            "text/plain": [
              "array(['M', 'B'], dtype=object)"
            ]
          },
          "metadata": {},
          "execution_count": 71
        }
      ]
    },
    {
      "cell_type": "code",
      "metadata": {
        "pycharm": {
          "name": "#%%\n"
        },
        "id": "5Tg9GA1tV_gV"
      },
      "source": [
        "df['diagnosis'] = df['diagnosis'].apply(lambda val: 1 if val == 'M' else 0)"
      ],
      "execution_count": 72,
      "outputs": []
    },
    {
      "cell_type": "code",
      "metadata": {
        "pycharm": {
          "name": "#%%\n"
        },
        "id": "4UFM9REOV_gW"
      },
      "source": [
        "pd.set_option('precision',3)\n"
      ],
      "execution_count": 73,
      "outputs": []
    },
    {
      "cell_type": "code",
      "metadata": {
        "pycharm": {
          "name": "#%%\n"
        },
        "id": "ypI_UIKWV_gZ"
      },
      "source": [
        "m_col = ['diagnosis','radius_mean', 'texture_mean', 'perimeter_mean',\n",
        "       'area_mean', 'smoothness_mean', 'compactness_mean', 'concavity_mean',\n",
        "       'concave points_mean', 'symmetry_mean', 'fractal_dimension_mean']\n",
        "\n",
        "# Getting Se Columns\n",
        "s_col = ['diagnosis','radius_se', 'texture_se', 'perimeter_se', 'area_se', 'smoothness_se',\n",
        "       'compactness_se', 'concavity_se', 'concave points_se', 'symmetry_se',\n",
        "       'fractal_dimension_se']\n",
        "\n",
        "# Getting Worst column\n",
        "w_col = ['diagnosis','radius_worst', 'texture_worst',\n",
        "       'perimeter_worst', 'area_worst', 'smoothness_worst',\n",
        "       'compactness_worst', 'concavity_worst', 'concave points_worst',\n",
        "       'symmetry_worst', 'fractal_dimension_worst']\n"
      ],
      "execution_count": 74,
      "outputs": []
    },
    {
      "cell_type": "code",
      "metadata": {
        "pycharm": {
          "name": "#%%\n"
        },
        "id": "COG_kpITV_gj"
      },
      "source": [
        "# Getting Features:-\n",
        "cols = ['concave points_mean','area_mean','radius_mean','perimeter_mean','concavity_mean']\n",
        "x = df[cols]\n",
        "# x = df.drop(columns = 'diagnosis')\n",
        "\n",
        "# Getting Predicting Value:-\n",
        "\n",
        "y = df['diagnosis']\n"
      ],
      "execution_count": 75,
      "outputs": []
    },
    {
      "cell_type": "code",
      "metadata": {
        "pycharm": {
          "name": "#%%\n"
        },
        "id": "gzPv3xnIV_gm",
        "colab": {
          "base_uri": "https://localhost:8080/"
        },
        "outputId": "08b2f4be-1eee-49cf-f035-f538cf647854"
      },
      "source": [
        "from sklearn.model_selection import train_test_split\n",
        "x_train, x_test, y_train, y_test = train_test_split(x,y,test_size=.20, random_state=46)\n",
        "x_test.shape"
      ],
      "execution_count": 76,
      "outputs": [
        {
          "output_type": "execute_result",
          "data": {
            "text/plain": [
              "(114, 5)"
            ]
          },
          "metadata": {},
          "execution_count": 76
        }
      ]
    },
    {
      "cell_type": "code",
      "metadata": {
        "pycharm": {
          "name": "#%%\n"
        },
        "id": "ffJOqjMMV_go"
      },
      "source": [
        "from sklearn.preprocessing import StandardScaler\n",
        "scale = StandardScaler()\n",
        "x_train = scale.fit_transform(x_train)\n",
        "x_test = scale.fit_transform(x_test)\n"
      ],
      "execution_count": 77,
      "outputs": []
    },
    {
      "cell_type": "code",
      "metadata": {
        "pycharm": {
          "name": "#%%\n"
        },
        "id": "2O0pQehVV_gp"
      },
      "source": [
        "def Classification_Models(x,y,xt,yt):\n",
        "    # Importing All LIberaries\n",
        "    from sklearn.metrics import accuracy_score\n",
        "    from sklearn.linear_model import LogisticRegression\n",
        "    from sklearn.discriminant_analysis import LinearDiscriminantAnalysis\n",
        "    from sklearn.naive_bayes import GaussianNB\n",
        "    from sklearn.tree import DecisionTreeClassifier\n",
        "    from sklearn.ensemble import RandomForestClassifier\n",
        "    from sklearn import svm\n",
        "    from sklearn.neighbors import KNeighborsClassifier\n",
        "    from sklearn.metrics import classification_report\n",
        "    from sklearn.metrics import plot_confusion_matrix    \n",
        "  \n",
        "\n",
        "\n",
        "    # Initializing models:-\n",
        "\n",
        "    logisreg = LogisticRegression()\n",
        "    gnb = GaussianNB()\n",
        "    dtc = DecisionTreeClassifier()\n",
        "    rfc = RandomForestClassifier()\n",
        "    svmodel = svm.SVC()\n",
        "    knnmodel = KNeighborsClassifier()\n",
        "\n",
        "     # Fitting Models\n",
        "    logisreg.fit(x,y)\n",
        "    gnb.fit(x,y)\n",
        "    dtc.fit(x,y)\n",
        "    rfc.fit(x,y)\n",
        "    svmodel.fit(x,y)\n",
        "    knnmodel.fit(x,y)\n",
        "\n",
        "    # Getting Predicting Values:-\n",
        "\n",
        "    logi_pred = logisreg.predict(xt)\n",
        "    gnb_pred = gnb.predict(xt)\n",
        "    dtc_pred = dtc.predict(xt)\n",
        "    rfc_pred = rfc.predict(xt)\n",
        "    svm_pred = svmodel.predict(xt)\n",
        "    knn_pred = knnmodel.predict(xt)\n",
        "    # Getting Accuracy Score\n",
        "    acc_logisreg = accuracy_score(yt, logi_pred)\n",
        "    acc_ganb = accuracy_score(yt, gnb_pred)\n",
        "    acc_dtree = accuracy_score(yt, dtc_pred)\n",
        "    acc_rf = accuracy_score(yt, rfc_pred)\n",
        "    acc_svc = accuracy_score(yt, svm_pred)\n",
        "    acc_knn = accuracy_score(yt, knn_pred)\n",
        "\n",
        "    print(\"Accuracy of Support Vector Classifier:\",acc_svc*100,'\\n')\n",
        "    print(classification_report(y_test,svm_pred))\n",
        "    disp = plot_confusion_matrix(svmodel, xt, yt, display_labels=['normal', 'diseases'], cmap=plt.cm.Blues)\n",
        "    disp.ax_.set_title('Support Vector Classifier:')\n",
        "    print('Confusion Matrix')\n",
        "    plt.show()\n",
        "    joblib.dump(svmodel,\"../Breast_Cancer API/cancer_model.pkl\")"
      ],
      "execution_count": 78,
      "outputs": []
    },
    {
      "cell_type": "code",
      "metadata": {
        "colab": {
          "base_uri": "https://localhost:8080/",
          "height": 503
        },
        "id": "ukbMbxOf-NVG",
        "outputId": "2c312860-a50d-41fc-bb4b-bc7f2667fc30"
      },
      "source": [
        "Classification_Models(x_train,y_train,x_test,y_test)"
      ],
      "execution_count": 79,
      "outputs": [
        {
          "output_type": "stream",
          "name": "stdout",
          "text": [
            "Accuracy of Support Vector Classifier: 92.98245614035088 \n\n              precision    recall  f1-score   support\n\n           0       0.92      0.97      0.94        70\n           1       0.95      0.86      0.90        44\n\n    accuracy                           0.93       114\n   macro avg       0.93      0.92      0.92       114\nweighted avg       0.93      0.93      0.93       114\n\nConfusion Matrix\n"
          ]
        },
        {
          "output_type": "display_data",
          "data": {
            "text/plain": "<Figure size 432x288 with 2 Axes>",
            "image/svg+xml": "<?xml version=\"1.0\" encoding=\"utf-8\" standalone=\"no\"?>\r\n<!DOCTYPE svg PUBLIC \"-//W3C//DTD SVG 1.1//EN\"\r\n  \"http://www.w3.org/Graphics/SVG/1.1/DTD/svg11.dtd\">\r\n<svg height=\"281.073625pt\" version=\"1.1\" viewBox=\"0 0 344.979812 281.073625\" width=\"344.979812pt\" xmlns=\"http://www.w3.org/2000/svg\" xmlns:xlink=\"http://www.w3.org/1999/xlink\">\r\n <metadata>\r\n  <rdf:RDF xmlns:cc=\"http://creativecommons.org/ns#\" xmlns:dc=\"http://purl.org/dc/elements/1.1/\" xmlns:rdf=\"http://www.w3.org/1999/02/22-rdf-syntax-ns#\">\r\n   <cc:Work>\r\n    <dc:type rdf:resource=\"http://purl.org/dc/dcmitype/StillImage\"/>\r\n    <dc:date>2021-06-25T13:48:07.737208</dc:date>\r\n    <dc:format>image/svg+xml</dc:format>\r\n    <dc:creator>\r\n     <cc:Agent>\r\n      <dc:title>Matplotlib v3.4.1, https://matplotlib.org/</dc:title>\r\n     </cc:Agent>\r\n    </dc:creator>\r\n   </cc:Work>\r\n  </rdf:RDF>\r\n </metadata>\r\n <defs>\r\n  <style type=\"text/css\">*{stroke-linecap:butt;stroke-linejoin:round;}</style>\r\n </defs>\r\n <g id=\"figure_1\">\r\n  <g id=\"patch_1\">\r\n   <path d=\"M 0 281.073625 \r\nL 344.979812 281.073625 \r\nL 344.979812 0 \r\nL 0 0 \r\nz\r\n\" style=\"fill:#ffffff;\"/>\r\n  </g>\r\n  <g id=\"axes_1\">\r\n   <g id=\"patch_2\">\r\n    <path d=\"M 73.002813 241.58175 \r\nL 290.442813 241.58175 \r\nL 290.442813 24.14175 \r\nL 73.002813 24.14175 \r\nz\r\n\" style=\"fill:#e5e5e5;\"/>\r\n   </g>\r\n   <g clip-path=\"url(#p31fc5ddeea)\">\r\n    <image height=\"218\" id=\"image26ed735da3\" transform=\"scale(1 -1)translate(0 -218)\" width=\"218\" x=\"73.002813\" xlink:href=\"data:image/png;base64,\r\niVBORw0KGgoAAAANSUhEUgAAANoAAADaCAYAAADAHVzbAAACm0lEQVR4nO3VoRHCUAAFQYKiHPpC0UsKoY9oqkAgkIikhm/uD8NuBc/cvOX1+e4nfsr98Zw9gUHn2QPgHwgNAkKDgNAgIDQICA0CQoOA0CAgNAgIDQJCg4DQICA0CAgNAkKDgNAgIDQICA0CQoOA0CAgNAgIDQJCg4DQICA0CAgNAkKDgNAgIDQICA0CQoOA0CAgNAgIDQJCg4DQICA0CAgNAkKDgNAgIDQICA0CQoOA0CAgNAgIDQJCg4DQICA0CAgNAkKDgNAgIDQICA0CQoOA0CAgNAgIDQJCg4DQICA0CAgNAkKDgNAgIDQICA0CQoOA0CAgNAgIDQJCg4DQICA0CAgNAkKDgNAgIDQICA0CQoOA0CAgNAgIDQJCg4DQICA0CAgNAkKDgNAgIDQICA0CQoOA0CAgNAgIDQJCg4DQICA0CAgNAkKDgNAgIDQICA0CQoOA0CAgNAgIDQJCg4DQILBcrrd99gjGvLd19gQGeTQICA0CQoOA0CAgNAgIDQJCg4DQICA0CAgNAkKDgNAgIDQICA0CQoOA0CAgNAgIDQJCg4DQICA0CAgNAkKDgNAgIDQICA0CQoOA0CAgNAgIDQJCg4DQICA0CAgNAkKDgNAgIDQICA0CQoOA0CAgNAgIDQJCg4DQICA0CAgNAkKDgNAgIDQICA0CQoOA0CAgNAgIDQJCg4DQICA0CAgNAkKDgNAgIDQICA0CQoOA0CAgNAgIDQJCg4DQICA0CAgNAkKDgNAgIDQICA0CQoOA0CAgNAgIDQJCg4DQICA0CAgNAkKDgNAgIDQICA0CQoOA0CAgNAgIDQJCg4DQICA0CAgNAkKDgNAgIDQICA0CQoOA0CAgNAgIDQJCg4DQICA0CAgNAkKDgNAgcACBmgtxWOESUAAAAABJRU5ErkJggg==\" y=\"-23.58175\"/>\r\n   </g>\r\n   <g id=\"matplotlib.axis_1\">\r\n    <g id=\"xtick_1\">\r\n     <g id=\"line2d_1\">\r\n      <path clip-path=\"url(#p31fc5ddeea)\" d=\"M 127.362813 241.58175 \r\nL 127.362813 24.14175 \r\n\" style=\"fill:none;stroke:#ffffff;stroke-linecap:square;stroke-width:0.8;\"/>\r\n     </g>\r\n     <g id=\"line2d_2\">\r\n      <defs>\r\n       <path d=\"M 0 0 \r\nL 0 3.5 \r\n\" id=\"m2ec6c5d0f0\" style=\"stroke:#555555;stroke-width:0.8;\"/>\r\n      </defs>\r\n      <g>\r\n       <use style=\"fill:#555555;stroke:#555555;stroke-width:0.8;\" x=\"127.362813\" xlink:href=\"#m2ec6c5d0f0\" y=\"241.58175\"/>\r\n      </g>\r\n     </g>\r\n     <g id=\"text_1\">\r\n      <!-- normal -->\r\n      <g style=\"fill:#555555;\" transform=\"translate(109.843281 256.180187)scale(0.1 -0.1)\">\r\n       <defs>\r\n        <path d=\"M 3513 2113 \r\nL 3513 0 \r\nL 2938 0 \r\nL 2938 2094 \r\nQ 2938 2591 2744 2837 \r\nQ 2550 3084 2163 3084 \r\nQ 1697 3084 1428 2787 \r\nQ 1159 2491 1159 1978 \r\nL 1159 0 \r\nL 581 0 \r\nL 581 3500 \r\nL 1159 3500 \r\nL 1159 2956 \r\nQ 1366 3272 1645 3428 \r\nQ 1925 3584 2291 3584 \r\nQ 2894 3584 3203 3211 \r\nQ 3513 2838 3513 2113 \r\nz\r\n\" id=\"DejaVuSans-6e\" transform=\"scale(0.015625)\"/>\r\n        <path d=\"M 1959 3097 \r\nQ 1497 3097 1228 2736 \r\nQ 959 2375 959 1747 \r\nQ 959 1119 1226 758 \r\nQ 1494 397 1959 397 \r\nQ 2419 397 2687 759 \r\nQ 2956 1122 2956 1747 \r\nQ 2956 2369 2687 2733 \r\nQ 2419 3097 1959 3097 \r\nz\r\nM 1959 3584 \r\nQ 2709 3584 3137 3096 \r\nQ 3566 2609 3566 1747 \r\nQ 3566 888 3137 398 \r\nQ 2709 -91 1959 -91 \r\nQ 1206 -91 779 398 \r\nQ 353 888 353 1747 \r\nQ 353 2609 779 3096 \r\nQ 1206 3584 1959 3584 \r\nz\r\n\" id=\"DejaVuSans-6f\" transform=\"scale(0.015625)\"/>\r\n        <path d=\"M 2631 2963 \r\nQ 2534 3019 2420 3045 \r\nQ 2306 3072 2169 3072 \r\nQ 1681 3072 1420 2755 \r\nQ 1159 2438 1159 1844 \r\nL 1159 0 \r\nL 581 0 \r\nL 581 3500 \r\nL 1159 3500 \r\nL 1159 2956 \r\nQ 1341 3275 1631 3429 \r\nQ 1922 3584 2338 3584 \r\nQ 2397 3584 2469 3576 \r\nQ 2541 3569 2628 3553 \r\nL 2631 2963 \r\nz\r\n\" id=\"DejaVuSans-72\" transform=\"scale(0.015625)\"/>\r\n        <path d=\"M 3328 2828 \r\nQ 3544 3216 3844 3400 \r\nQ 4144 3584 4550 3584 \r\nQ 5097 3584 5394 3201 \r\nQ 5691 2819 5691 2113 \r\nL 5691 0 \r\nL 5113 0 \r\nL 5113 2094 \r\nQ 5113 2597 4934 2840 \r\nQ 4756 3084 4391 3084 \r\nQ 3944 3084 3684 2787 \r\nQ 3425 2491 3425 1978 \r\nL 3425 0 \r\nL 2847 0 \r\nL 2847 2094 \r\nQ 2847 2600 2669 2842 \r\nQ 2491 3084 2119 3084 \r\nQ 1678 3084 1418 2786 \r\nQ 1159 2488 1159 1978 \r\nL 1159 0 \r\nL 581 0 \r\nL 581 3500 \r\nL 1159 3500 \r\nL 1159 2956 \r\nQ 1356 3278 1631 3431 \r\nQ 1906 3584 2284 3584 \r\nQ 2666 3584 2933 3390 \r\nQ 3200 3197 3328 2828 \r\nz\r\n\" id=\"DejaVuSans-6d\" transform=\"scale(0.015625)\"/>\r\n        <path d=\"M 2194 1759 \r\nQ 1497 1759 1228 1600 \r\nQ 959 1441 959 1056 \r\nQ 959 750 1161 570 \r\nQ 1363 391 1709 391 \r\nQ 2188 391 2477 730 \r\nQ 2766 1069 2766 1631 \r\nL 2766 1759 \r\nL 2194 1759 \r\nz\r\nM 3341 1997 \r\nL 3341 0 \r\nL 2766 0 \r\nL 2766 531 \r\nQ 2569 213 2275 61 \r\nQ 1981 -91 1556 -91 \r\nQ 1019 -91 701 211 \r\nQ 384 513 384 1019 \r\nQ 384 1609 779 1909 \r\nQ 1175 2209 1959 2209 \r\nL 2766 2209 \r\nL 2766 2266 \r\nQ 2766 2663 2505 2880 \r\nQ 2244 3097 1772 3097 \r\nQ 1472 3097 1187 3025 \r\nQ 903 2953 641 2809 \r\nL 641 3341 \r\nQ 956 3463 1253 3523 \r\nQ 1550 3584 1831 3584 \r\nQ 2591 3584 2966 3190 \r\nQ 3341 2797 3341 1997 \r\nz\r\n\" id=\"DejaVuSans-61\" transform=\"scale(0.015625)\"/>\r\n        <path d=\"M 603 4863 \r\nL 1178 4863 \r\nL 1178 0 \r\nL 603 0 \r\nL 603 4863 \r\nz\r\n\" id=\"DejaVuSans-6c\" transform=\"scale(0.015625)\"/>\r\n       </defs>\r\n       <use xlink:href=\"#DejaVuSans-6e\"/>\r\n       <use x=\"63.378906\" xlink:href=\"#DejaVuSans-6f\"/>\r\n       <use x=\"124.560547\" xlink:href=\"#DejaVuSans-72\"/>\r\n       <use x=\"163.923828\" xlink:href=\"#DejaVuSans-6d\"/>\r\n       <use x=\"261.335938\" xlink:href=\"#DejaVuSans-61\"/>\r\n       <use x=\"322.615234\" xlink:href=\"#DejaVuSans-6c\"/>\r\n      </g>\r\n     </g>\r\n    </g>\r\n    <g id=\"xtick_2\">\r\n     <g id=\"line2d_3\">\r\n      <path clip-path=\"url(#p31fc5ddeea)\" d=\"M 236.082812 241.58175 \r\nL 236.082812 24.14175 \r\n\" style=\"fill:none;stroke:#ffffff;stroke-linecap:square;stroke-width:0.8;\"/>\r\n     </g>\r\n     <g id=\"line2d_4\">\r\n      <g>\r\n       <use style=\"fill:#555555;stroke:#555555;stroke-width:0.8;\" x=\"236.082812\" xlink:href=\"#m2ec6c5d0f0\" y=\"241.58175\"/>\r\n      </g>\r\n     </g>\r\n     <g id=\"text_2\">\r\n      <!-- diseases -->\r\n      <g style=\"fill:#555555;\" transform=\"translate(214.488281 256.180187)scale(0.1 -0.1)\">\r\n       <defs>\r\n        <path d=\"M 2906 2969 \r\nL 2906 4863 \r\nL 3481 4863 \r\nL 3481 0 \r\nL 2906 0 \r\nL 2906 525 \r\nQ 2725 213 2448 61 \r\nQ 2172 -91 1784 -91 \r\nQ 1150 -91 751 415 \r\nQ 353 922 353 1747 \r\nQ 353 2572 751 3078 \r\nQ 1150 3584 1784 3584 \r\nQ 2172 3584 2448 3432 \r\nQ 2725 3281 2906 2969 \r\nz\r\nM 947 1747 \r\nQ 947 1113 1208 752 \r\nQ 1469 391 1925 391 \r\nQ 2381 391 2643 752 \r\nQ 2906 1113 2906 1747 \r\nQ 2906 2381 2643 2742 \r\nQ 2381 3103 1925 3103 \r\nQ 1469 3103 1208 2742 \r\nQ 947 2381 947 1747 \r\nz\r\n\" id=\"DejaVuSans-64\" transform=\"scale(0.015625)\"/>\r\n        <path d=\"M 603 3500 \r\nL 1178 3500 \r\nL 1178 0 \r\nL 603 0 \r\nL 603 3500 \r\nz\r\nM 603 4863 \r\nL 1178 4863 \r\nL 1178 4134 \r\nL 603 4134 \r\nL 603 4863 \r\nz\r\n\" id=\"DejaVuSans-69\" transform=\"scale(0.015625)\"/>\r\n        <path d=\"M 2834 3397 \r\nL 2834 2853 \r\nQ 2591 2978 2328 3040 \r\nQ 2066 3103 1784 3103 \r\nQ 1356 3103 1142 2972 \r\nQ 928 2841 928 2578 \r\nQ 928 2378 1081 2264 \r\nQ 1234 2150 1697 2047 \r\nL 1894 2003 \r\nQ 2506 1872 2764 1633 \r\nQ 3022 1394 3022 966 \r\nQ 3022 478 2636 193 \r\nQ 2250 -91 1575 -91 \r\nQ 1294 -91 989 -36 \r\nQ 684 19 347 128 \r\nL 347 722 \r\nQ 666 556 975 473 \r\nQ 1284 391 1588 391 \r\nQ 1994 391 2212 530 \r\nQ 2431 669 2431 922 \r\nQ 2431 1156 2273 1281 \r\nQ 2116 1406 1581 1522 \r\nL 1381 1569 \r\nQ 847 1681 609 1914 \r\nQ 372 2147 372 2553 \r\nQ 372 3047 722 3315 \r\nQ 1072 3584 1716 3584 \r\nQ 2034 3584 2315 3537 \r\nQ 2597 3491 2834 3397 \r\nz\r\n\" id=\"DejaVuSans-73\" transform=\"scale(0.015625)\"/>\r\n        <path d=\"M 3597 1894 \r\nL 3597 1613 \r\nL 953 1613 \r\nQ 991 1019 1311 708 \r\nQ 1631 397 2203 397 \r\nQ 2534 397 2845 478 \r\nQ 3156 559 3463 722 \r\nL 3463 178 \r\nQ 3153 47 2828 -22 \r\nQ 2503 -91 2169 -91 \r\nQ 1331 -91 842 396 \r\nQ 353 884 353 1716 \r\nQ 353 2575 817 3079 \r\nQ 1281 3584 2069 3584 \r\nQ 2775 3584 3186 3129 \r\nQ 3597 2675 3597 1894 \r\nz\r\nM 3022 2063 \r\nQ 3016 2534 2758 2815 \r\nQ 2500 3097 2075 3097 \r\nQ 1594 3097 1305 2825 \r\nQ 1016 2553 972 2059 \r\nL 3022 2063 \r\nz\r\n\" id=\"DejaVuSans-65\" transform=\"scale(0.015625)\"/>\r\n       </defs>\r\n       <use xlink:href=\"#DejaVuSans-64\"/>\r\n       <use x=\"63.476562\" xlink:href=\"#DejaVuSans-69\"/>\r\n       <use x=\"91.259766\" xlink:href=\"#DejaVuSans-73\"/>\r\n       <use x=\"143.359375\" xlink:href=\"#DejaVuSans-65\"/>\r\n       <use x=\"204.882812\" xlink:href=\"#DejaVuSans-61\"/>\r\n       <use x=\"266.162109\" xlink:href=\"#DejaVuSans-73\"/>\r\n       <use x=\"318.261719\" xlink:href=\"#DejaVuSans-65\"/>\r\n       <use x=\"379.785156\" xlink:href=\"#DejaVuSans-73\"/>\r\n      </g>\r\n     </g>\r\n    </g>\r\n    <g id=\"text_3\">\r\n     <!-- Predicted label -->\r\n     <g style=\"fill:#555555;\" transform=\"translate(137.14 271.378)scale(0.12 -0.12)\">\r\n      <defs>\r\n       <path d=\"M 1259 4147 \r\nL 1259 2394 \r\nL 2053 2394 \r\nQ 2494 2394 2734 2622 \r\nQ 2975 2850 2975 3272 \r\nQ 2975 3691 2734 3919 \r\nQ 2494 4147 2053 4147 \r\nL 1259 4147 \r\nz\r\nM 628 4666 \r\nL 2053 4666 \r\nQ 2838 4666 3239 4311 \r\nQ 3641 3956 3641 3272 \r\nQ 3641 2581 3239 2228 \r\nQ 2838 1875 2053 1875 \r\nL 1259 1875 \r\nL 1259 0 \r\nL 628 0 \r\nL 628 4666 \r\nz\r\n\" id=\"DejaVuSans-50\" transform=\"scale(0.015625)\"/>\r\n       <path d=\"M 3122 3366 \r\nL 3122 2828 \r\nQ 2878 2963 2633 3030 \r\nQ 2388 3097 2138 3097 \r\nQ 1578 3097 1268 2742 \r\nQ 959 2388 959 1747 \r\nQ 959 1106 1268 751 \r\nQ 1578 397 2138 397 \r\nQ 2388 397 2633 464 \r\nQ 2878 531 3122 666 \r\nL 3122 134 \r\nQ 2881 22 2623 -34 \r\nQ 2366 -91 2075 -91 \r\nQ 1284 -91 818 406 \r\nQ 353 903 353 1747 \r\nQ 353 2603 823 3093 \r\nQ 1294 3584 2113 3584 \r\nQ 2378 3584 2631 3529 \r\nQ 2884 3475 3122 3366 \r\nz\r\n\" id=\"DejaVuSans-63\" transform=\"scale(0.015625)\"/>\r\n       <path d=\"M 1172 4494 \r\nL 1172 3500 \r\nL 2356 3500 \r\nL 2356 3053 \r\nL 1172 3053 \r\nL 1172 1153 \r\nQ 1172 725 1289 603 \r\nQ 1406 481 1766 481 \r\nL 2356 481 \r\nL 2356 0 \r\nL 1766 0 \r\nQ 1100 0 847 248 \r\nQ 594 497 594 1153 \r\nL 594 3053 \r\nL 172 3053 \r\nL 172 3500 \r\nL 594 3500 \r\nL 594 4494 \r\nL 1172 4494 \r\nz\r\n\" id=\"DejaVuSans-74\" transform=\"scale(0.015625)\"/>\r\n       <path id=\"DejaVuSans-20\" transform=\"scale(0.015625)\"/>\r\n       <path d=\"M 3116 1747 \r\nQ 3116 2381 2855 2742 \r\nQ 2594 3103 2138 3103 \r\nQ 1681 3103 1420 2742 \r\nQ 1159 2381 1159 1747 \r\nQ 1159 1113 1420 752 \r\nQ 1681 391 2138 391 \r\nQ 2594 391 2855 752 \r\nQ 3116 1113 3116 1747 \r\nz\r\nM 1159 2969 \r\nQ 1341 3281 1617 3432 \r\nQ 1894 3584 2278 3584 \r\nQ 2916 3584 3314 3078 \r\nQ 3713 2572 3713 1747 \r\nQ 3713 922 3314 415 \r\nQ 2916 -91 2278 -91 \r\nQ 1894 -91 1617 61 \r\nQ 1341 213 1159 525 \r\nL 1159 0 \r\nL 581 0 \r\nL 581 4863 \r\nL 1159 4863 \r\nL 1159 2969 \r\nz\r\n\" id=\"DejaVuSans-62\" transform=\"scale(0.015625)\"/>\r\n      </defs>\r\n      <use xlink:href=\"#DejaVuSans-50\"/>\r\n      <use x=\"58.552734\" xlink:href=\"#DejaVuSans-72\"/>\r\n      <use x=\"97.416016\" xlink:href=\"#DejaVuSans-65\"/>\r\n      <use x=\"158.939453\" xlink:href=\"#DejaVuSans-64\"/>\r\n      <use x=\"222.416016\" xlink:href=\"#DejaVuSans-69\"/>\r\n      <use x=\"250.199219\" xlink:href=\"#DejaVuSans-63\"/>\r\n      <use x=\"305.179688\" xlink:href=\"#DejaVuSans-74\"/>\r\n      <use x=\"344.388672\" xlink:href=\"#DejaVuSans-65\"/>\r\n      <use x=\"405.912109\" xlink:href=\"#DejaVuSans-64\"/>\r\n      <use x=\"469.388672\" xlink:href=\"#DejaVuSans-20\"/>\r\n      <use x=\"501.175781\" xlink:href=\"#DejaVuSans-6c\"/>\r\n      <use x=\"528.958984\" xlink:href=\"#DejaVuSans-61\"/>\r\n      <use x=\"590.238281\" xlink:href=\"#DejaVuSans-62\"/>\r\n      <use x=\"653.714844\" xlink:href=\"#DejaVuSans-65\"/>\r\n      <use x=\"715.238281\" xlink:href=\"#DejaVuSans-6c\"/>\r\n     </g>\r\n    </g>\r\n   </g>\r\n   <g id=\"matplotlib.axis_2\">\r\n    <g id=\"ytick_1\">\r\n     <g id=\"line2d_5\">\r\n      <path clip-path=\"url(#p31fc5ddeea)\" d=\"M 73.002813 78.50175 \r\nL 290.442813 78.50175 \r\n\" style=\"fill:none;stroke:#ffffff;stroke-linecap:square;stroke-width:0.8;\"/>\r\n     </g>\r\n     <g id=\"line2d_6\">\r\n      <defs>\r\n       <path d=\"M 0 0 \r\nL -3.5 0 \r\n\" id=\"m704c980e1e\" style=\"stroke:#555555;stroke-width:0.8;\"/>\r\n      </defs>\r\n      <g>\r\n       <use style=\"fill:#555555;stroke:#555555;stroke-width:0.8;\" x=\"73.002813\" xlink:href=\"#m704c980e1e\" y=\"78.50175\"/>\r\n      </g>\r\n     </g>\r\n     <g id=\"text_4\">\r\n      <!-- normal -->\r\n      <g style=\"fill:#555555;\" transform=\"translate(30.96375 82.300969)scale(0.1 -0.1)\">\r\n       <use xlink:href=\"#DejaVuSans-6e\"/>\r\n       <use x=\"63.378906\" xlink:href=\"#DejaVuSans-6f\"/>\r\n       <use x=\"124.560547\" xlink:href=\"#DejaVuSans-72\"/>\r\n       <use x=\"163.923828\" xlink:href=\"#DejaVuSans-6d\"/>\r\n       <use x=\"261.335938\" xlink:href=\"#DejaVuSans-61\"/>\r\n       <use x=\"322.615234\" xlink:href=\"#DejaVuSans-6c\"/>\r\n      </g>\r\n     </g>\r\n    </g>\r\n    <g id=\"ytick_2\">\r\n     <g id=\"line2d_7\">\r\n      <path clip-path=\"url(#p31fc5ddeea)\" d=\"M 73.002813 187.22175 \r\nL 290.442813 187.22175 \r\n\" style=\"fill:none;stroke:#ffffff;stroke-linecap:square;stroke-width:0.8;\"/>\r\n     </g>\r\n     <g id=\"line2d_8\">\r\n      <g>\r\n       <use style=\"fill:#555555;stroke:#555555;stroke-width:0.8;\" x=\"73.002813\" xlink:href=\"#m704c980e1e\" y=\"187.22175\"/>\r\n      </g>\r\n     </g>\r\n     <g id=\"text_5\">\r\n      <!-- diseases -->\r\n      <g style=\"fill:#555555;\" transform=\"translate(22.81375 191.020969)scale(0.1 -0.1)\">\r\n       <use xlink:href=\"#DejaVuSans-64\"/>\r\n       <use x=\"63.476562\" xlink:href=\"#DejaVuSans-69\"/>\r\n       <use x=\"91.259766\" xlink:href=\"#DejaVuSans-73\"/>\r\n       <use x=\"143.359375\" xlink:href=\"#DejaVuSans-65\"/>\r\n       <use x=\"204.882812\" xlink:href=\"#DejaVuSans-61\"/>\r\n       <use x=\"266.162109\" xlink:href=\"#DejaVuSans-73\"/>\r\n       <use x=\"318.261719\" xlink:href=\"#DejaVuSans-65\"/>\r\n       <use x=\"379.785156\" xlink:href=\"#DejaVuSans-73\"/>\r\n      </g>\r\n     </g>\r\n    </g>\r\n    <g id=\"text_6\">\r\n     <!-- True label -->\r\n     <g style=\"fill:#555555;\" transform=\"translate(16.318125 162.020813)rotate(-90)scale(0.12 -0.12)\">\r\n      <defs>\r\n       <path d=\"M -19 4666 \r\nL 3928 4666 \r\nL 3928 4134 \r\nL 2272 4134 \r\nL 2272 0 \r\nL 1638 0 \r\nL 1638 4134 \r\nL -19 4134 \r\nL -19 4666 \r\nz\r\n\" id=\"DejaVuSans-54\" transform=\"scale(0.015625)\"/>\r\n       <path d=\"M 544 1381 \r\nL 544 3500 \r\nL 1119 3500 \r\nL 1119 1403 \r\nQ 1119 906 1312 657 \r\nQ 1506 409 1894 409 \r\nQ 2359 409 2629 706 \r\nQ 2900 1003 2900 1516 \r\nL 2900 3500 \r\nL 3475 3500 \r\nL 3475 0 \r\nL 2900 0 \r\nL 2900 538 \r\nQ 2691 219 2414 64 \r\nQ 2138 -91 1772 -91 \r\nQ 1169 -91 856 284 \r\nQ 544 659 544 1381 \r\nz\r\nM 1991 3584 \r\nL 1991 3584 \r\nz\r\n\" id=\"DejaVuSans-75\" transform=\"scale(0.015625)\"/>\r\n      </defs>\r\n      <use xlink:href=\"#DejaVuSans-54\"/>\r\n      <use x=\"46.333984\" xlink:href=\"#DejaVuSans-72\"/>\r\n      <use x=\"87.447266\" xlink:href=\"#DejaVuSans-75\"/>\r\n      <use x=\"150.826172\" xlink:href=\"#DejaVuSans-65\"/>\r\n      <use x=\"212.349609\" xlink:href=\"#DejaVuSans-20\"/>\r\n      <use x=\"244.136719\" xlink:href=\"#DejaVuSans-6c\"/>\r\n      <use x=\"271.919922\" xlink:href=\"#DejaVuSans-61\"/>\r\n      <use x=\"333.199219\" xlink:href=\"#DejaVuSans-62\"/>\r\n      <use x=\"396.675781\" xlink:href=\"#DejaVuSans-65\"/>\r\n      <use x=\"458.199219\" xlink:href=\"#DejaVuSans-6c\"/>\r\n     </g>\r\n    </g>\r\n   </g>\r\n   <g id=\"patch_3\">\r\n    <path d=\"M 73.002813 241.58175 \r\nL 73.002813 24.14175 \r\n\" style=\"fill:none;stroke:#ffffff;stroke-linecap:square;stroke-linejoin:miter;\"/>\r\n   </g>\r\n   <g id=\"patch_4\">\r\n    <path d=\"M 290.442813 241.58175 \r\nL 290.442813 24.14175 \r\n\" style=\"fill:none;stroke:#ffffff;stroke-linecap:square;stroke-linejoin:miter;\"/>\r\n   </g>\r\n   <g id=\"patch_5\">\r\n    <path d=\"M 73.002813 241.58175 \r\nL 290.442813 241.58175 \r\n\" style=\"fill:none;stroke:#ffffff;stroke-linecap:square;stroke-linejoin:miter;\"/>\r\n   </g>\r\n   <g id=\"patch_6\">\r\n    <path d=\"M 73.002813 24.14175 \r\nL 290.442813 24.14175 \r\n\" style=\"fill:none;stroke:#ffffff;stroke-linecap:square;stroke-linejoin:miter;\"/>\r\n   </g>\r\n   <g id=\"text_7\">\r\n    <!-- 68 -->\r\n    <g style=\"fill:#f7fbff;\" transform=\"translate(121.000313 81.261125)scale(0.1 -0.1)\">\r\n     <defs>\r\n      <path d=\"M 2113 2584 \r\nQ 1688 2584 1439 2293 \r\nQ 1191 2003 1191 1497 \r\nQ 1191 994 1439 701 \r\nQ 1688 409 2113 409 \r\nQ 2538 409 2786 701 \r\nQ 3034 994 3034 1497 \r\nQ 3034 2003 2786 2293 \r\nQ 2538 2584 2113 2584 \r\nz\r\nM 3366 4563 \r\nL 3366 3988 \r\nQ 3128 4100 2886 4159 \r\nQ 2644 4219 2406 4219 \r\nQ 1781 4219 1451 3797 \r\nQ 1122 3375 1075 2522 \r\nQ 1259 2794 1537 2939 \r\nQ 1816 3084 2150 3084 \r\nQ 2853 3084 3261 2657 \r\nQ 3669 2231 3669 1497 \r\nQ 3669 778 3244 343 \r\nQ 2819 -91 2113 -91 \r\nQ 1303 -91 875 529 \r\nQ 447 1150 447 2328 \r\nQ 447 3434 972 4092 \r\nQ 1497 4750 2381 4750 \r\nQ 2619 4750 2861 4703 \r\nQ 3103 4656 3366 4563 \r\nz\r\n\" id=\"DejaVuSans-36\" transform=\"scale(0.015625)\"/>\r\n      <path d=\"M 2034 2216 \r\nQ 1584 2216 1326 1975 \r\nQ 1069 1734 1069 1313 \r\nQ 1069 891 1326 650 \r\nQ 1584 409 2034 409 \r\nQ 2484 409 2743 651 \r\nQ 3003 894 3003 1313 \r\nQ 3003 1734 2745 1975 \r\nQ 2488 2216 2034 2216 \r\nz\r\nM 1403 2484 \r\nQ 997 2584 770 2862 \r\nQ 544 3141 544 3541 \r\nQ 544 4100 942 4425 \r\nQ 1341 4750 2034 4750 \r\nQ 2731 4750 3128 4425 \r\nQ 3525 4100 3525 3541 \r\nQ 3525 3141 3298 2862 \r\nQ 3072 2584 2669 2484 \r\nQ 3125 2378 3379 2068 \r\nQ 3634 1759 3634 1313 \r\nQ 3634 634 3220 271 \r\nQ 2806 -91 2034 -91 \r\nQ 1263 -91 848 271 \r\nQ 434 634 434 1313 \r\nQ 434 1759 690 2068 \r\nQ 947 2378 1403 2484 \r\nz\r\nM 1172 3481 \r\nQ 1172 3119 1398 2916 \r\nQ 1625 2713 2034 2713 \r\nQ 2441 2713 2670 2916 \r\nQ 2900 3119 2900 3481 \r\nQ 2900 3844 2670 4047 \r\nQ 2441 4250 2034 4250 \r\nQ 1625 4250 1398 4047 \r\nQ 1172 3844 1172 3481 \r\nz\r\n\" id=\"DejaVuSans-38\" transform=\"scale(0.015625)\"/>\r\n     </defs>\r\n     <use xlink:href=\"#DejaVuSans-36\"/>\r\n     <use x=\"63.623047\" xlink:href=\"#DejaVuSans-38\"/>\r\n    </g>\r\n   </g>\r\n   <g id=\"text_8\">\r\n    <!-- 2 -->\r\n    <g style=\"fill:#08306b;\" transform=\"translate(232.901562 81.261125)scale(0.1 -0.1)\">\r\n     <defs>\r\n      <path d=\"M 1228 531 \r\nL 3431 531 \r\nL 3431 0 \r\nL 469 0 \r\nL 469 531 \r\nQ 828 903 1448 1529 \r\nQ 2069 2156 2228 2338 \r\nQ 2531 2678 2651 2914 \r\nQ 2772 3150 2772 3378 \r\nQ 2772 3750 2511 3984 \r\nQ 2250 4219 1831 4219 \r\nQ 1534 4219 1204 4116 \r\nQ 875 4013 500 3803 \r\nL 500 4441 \r\nQ 881 4594 1212 4672 \r\nQ 1544 4750 1819 4750 \r\nQ 2544 4750 2975 4387 \r\nQ 3406 4025 3406 3419 \r\nQ 3406 3131 3298 2873 \r\nQ 3191 2616 2906 2266 \r\nQ 2828 2175 2409 1742 \r\nQ 1991 1309 1228 531 \r\nz\r\n\" id=\"DejaVuSans-32\" transform=\"scale(0.015625)\"/>\r\n     </defs>\r\n     <use xlink:href=\"#DejaVuSans-32\"/>\r\n    </g>\r\n   </g>\r\n   <g id=\"text_9\">\r\n    <!-- 6 -->\r\n    <g style=\"fill:#08306b;\" transform=\"translate(124.181562 189.981125)scale(0.1 -0.1)\">\r\n     <use xlink:href=\"#DejaVuSans-36\"/>\r\n    </g>\r\n   </g>\r\n   <g id=\"text_10\">\r\n    <!-- 38 -->\r\n    <g style=\"fill:#f7fbff;\" transform=\"translate(229.720312 189.981125)scale(0.1 -0.1)\">\r\n     <defs>\r\n      <path d=\"M 2597 2516 \r\nQ 3050 2419 3304 2112 \r\nQ 3559 1806 3559 1356 \r\nQ 3559 666 3084 287 \r\nQ 2609 -91 1734 -91 \r\nQ 1441 -91 1130 -33 \r\nQ 819 25 488 141 \r\nL 488 750 \r\nQ 750 597 1062 519 \r\nQ 1375 441 1716 441 \r\nQ 2309 441 2620 675 \r\nQ 2931 909 2931 1356 \r\nQ 2931 1769 2642 2001 \r\nQ 2353 2234 1838 2234 \r\nL 1294 2234 \r\nL 1294 2753 \r\nL 1863 2753 \r\nQ 2328 2753 2575 2939 \r\nQ 2822 3125 2822 3475 \r\nQ 2822 3834 2567 4026 \r\nQ 2313 4219 1838 4219 \r\nQ 1578 4219 1281 4162 \r\nQ 984 4106 628 3988 \r\nL 628 4550 \r\nQ 988 4650 1302 4700 \r\nQ 1616 4750 1894 4750 \r\nQ 2613 4750 3031 4423 \r\nQ 3450 4097 3450 3541 \r\nQ 3450 3153 3228 2886 \r\nQ 3006 2619 2597 2516 \r\nz\r\n\" id=\"DejaVuSans-33\" transform=\"scale(0.015625)\"/>\r\n     </defs>\r\n     <use xlink:href=\"#DejaVuSans-33\"/>\r\n     <use x=\"63.623047\" xlink:href=\"#DejaVuSans-38\"/>\r\n    </g>\r\n   </g>\r\n   <g id=\"text_11\">\r\n    <!-- Support Vector Classifier: -->\r\n    <g transform=\"translate(90.571938 18.14175)scale(0.144 -0.144)\">\r\n     <defs>\r\n      <path d=\"M 3425 4513 \r\nL 3425 3897 \r\nQ 3066 4069 2747 4153 \r\nQ 2428 4238 2131 4238 \r\nQ 1616 4238 1336 4038 \r\nQ 1056 3838 1056 3469 \r\nQ 1056 3159 1242 3001 \r\nQ 1428 2844 1947 2747 \r\nL 2328 2669 \r\nQ 3034 2534 3370 2195 \r\nQ 3706 1856 3706 1288 \r\nQ 3706 609 3251 259 \r\nQ 2797 -91 1919 -91 \r\nQ 1588 -91 1214 -16 \r\nQ 841 59 441 206 \r\nL 441 856 \r\nQ 825 641 1194 531 \r\nQ 1563 422 1919 422 \r\nQ 2459 422 2753 634 \r\nQ 3047 847 3047 1241 \r\nQ 3047 1584 2836 1778 \r\nQ 2625 1972 2144 2069 \r\nL 1759 2144 \r\nQ 1053 2284 737 2584 \r\nQ 422 2884 422 3419 \r\nQ 422 4038 858 4394 \r\nQ 1294 4750 2059 4750 \r\nQ 2388 4750 2728 4690 \r\nQ 3069 4631 3425 4513 \r\nz\r\n\" id=\"DejaVuSans-53\" transform=\"scale(0.015625)\"/>\r\n      <path d=\"M 1159 525 \r\nL 1159 -1331 \r\nL 581 -1331 \r\nL 581 3500 \r\nL 1159 3500 \r\nL 1159 2969 \r\nQ 1341 3281 1617 3432 \r\nQ 1894 3584 2278 3584 \r\nQ 2916 3584 3314 3078 \r\nQ 3713 2572 3713 1747 \r\nQ 3713 922 3314 415 \r\nQ 2916 -91 2278 -91 \r\nQ 1894 -91 1617 61 \r\nQ 1341 213 1159 525 \r\nz\r\nM 3116 1747 \r\nQ 3116 2381 2855 2742 \r\nQ 2594 3103 2138 3103 \r\nQ 1681 3103 1420 2742 \r\nQ 1159 2381 1159 1747 \r\nQ 1159 1113 1420 752 \r\nQ 1681 391 2138 391 \r\nQ 2594 391 2855 752 \r\nQ 3116 1113 3116 1747 \r\nz\r\n\" id=\"DejaVuSans-70\" transform=\"scale(0.015625)\"/>\r\n      <path d=\"M 1831 0 \r\nL 50 4666 \r\nL 709 4666 \r\nL 2188 738 \r\nL 3669 4666 \r\nL 4325 4666 \r\nL 2547 0 \r\nL 1831 0 \r\nz\r\n\" id=\"DejaVuSans-56\" transform=\"scale(0.015625)\"/>\r\n      <path d=\"M 4122 4306 \r\nL 4122 3641 \r\nQ 3803 3938 3442 4084 \r\nQ 3081 4231 2675 4231 \r\nQ 1875 4231 1450 3742 \r\nQ 1025 3253 1025 2328 \r\nQ 1025 1406 1450 917 \r\nQ 1875 428 2675 428 \r\nQ 3081 428 3442 575 \r\nQ 3803 722 4122 1019 \r\nL 4122 359 \r\nQ 3791 134 3420 21 \r\nQ 3050 -91 2638 -91 \r\nQ 1578 -91 968 557 \r\nQ 359 1206 359 2328 \r\nQ 359 3453 968 4101 \r\nQ 1578 4750 2638 4750 \r\nQ 3056 4750 3426 4639 \r\nQ 3797 4528 4122 4306 \r\nz\r\n\" id=\"DejaVuSans-43\" transform=\"scale(0.015625)\"/>\r\n      <path d=\"M 2375 4863 \r\nL 2375 4384 \r\nL 1825 4384 \r\nQ 1516 4384 1395 4259 \r\nQ 1275 4134 1275 3809 \r\nL 1275 3500 \r\nL 2222 3500 \r\nL 2222 3053 \r\nL 1275 3053 \r\nL 1275 0 \r\nL 697 0 \r\nL 697 3053 \r\nL 147 3053 \r\nL 147 3500 \r\nL 697 3500 \r\nL 697 3744 \r\nQ 697 4328 969 4595 \r\nQ 1241 4863 1831 4863 \r\nL 2375 4863 \r\nz\r\n\" id=\"DejaVuSans-66\" transform=\"scale(0.015625)\"/>\r\n      <path d=\"M 750 794 \r\nL 1409 794 \r\nL 1409 0 \r\nL 750 0 \r\nL 750 794 \r\nz\r\nM 750 3309 \r\nL 1409 3309 \r\nL 1409 2516 \r\nL 750 2516 \r\nL 750 3309 \r\nz\r\n\" id=\"DejaVuSans-3a\" transform=\"scale(0.015625)\"/>\r\n     </defs>\r\n     <use xlink:href=\"#DejaVuSans-53\"/>\r\n     <use x=\"63.476562\" xlink:href=\"#DejaVuSans-75\"/>\r\n     <use x=\"126.855469\" xlink:href=\"#DejaVuSans-70\"/>\r\n     <use x=\"190.332031\" xlink:href=\"#DejaVuSans-70\"/>\r\n     <use x=\"253.808594\" xlink:href=\"#DejaVuSans-6f\"/>\r\n     <use x=\"314.990234\" xlink:href=\"#DejaVuSans-72\"/>\r\n     <use x=\"356.103516\" xlink:href=\"#DejaVuSans-74\"/>\r\n     <use x=\"395.3125\" xlink:href=\"#DejaVuSans-20\"/>\r\n     <use x=\"427.099609\" xlink:href=\"#DejaVuSans-56\"/>\r\n     <use x=\"487.757812\" xlink:href=\"#DejaVuSans-65\"/>\r\n     <use x=\"549.28125\" xlink:href=\"#DejaVuSans-63\"/>\r\n     <use x=\"604.261719\" xlink:href=\"#DejaVuSans-74\"/>\r\n     <use x=\"643.470703\" xlink:href=\"#DejaVuSans-6f\"/>\r\n     <use x=\"704.652344\" xlink:href=\"#DejaVuSans-72\"/>\r\n     <use x=\"745.765625\" xlink:href=\"#DejaVuSans-20\"/>\r\n     <use x=\"777.552734\" xlink:href=\"#DejaVuSans-43\"/>\r\n     <use x=\"847.376953\" xlink:href=\"#DejaVuSans-6c\"/>\r\n     <use x=\"875.160156\" xlink:href=\"#DejaVuSans-61\"/>\r\n     <use x=\"936.439453\" xlink:href=\"#DejaVuSans-73\"/>\r\n     <use x=\"988.539062\" xlink:href=\"#DejaVuSans-73\"/>\r\n     <use x=\"1040.638672\" xlink:href=\"#DejaVuSans-69\"/>\r\n     <use x=\"1068.421875\" xlink:href=\"#DejaVuSans-66\"/>\r\n     <use x=\"1103.626953\" xlink:href=\"#DejaVuSans-69\"/>\r\n     <use x=\"1131.410156\" xlink:href=\"#DejaVuSans-65\"/>\r\n     <use x=\"1192.933594\" xlink:href=\"#DejaVuSans-72\"/>\r\n     <use x=\"1232.296875\" xlink:href=\"#DejaVuSans-3a\"/>\r\n    </g>\r\n   </g>\r\n  </g>\r\n  <g id=\"axes_2\">\r\n   <g id=\"patch_7\">\r\n    <path d=\"M 307.182813 241.58175 \r\nL 318.054813 241.58175 \r\nL 318.054813 24.14175 \r\nL 307.182813 24.14175 \r\nz\r\n\" style=\"fill:#e5e5e5;\"/>\r\n   </g>\r\n   <g id=\"patch_8\">\r\n    <path clip-path=\"url(#pbb8d7f547a)\" d=\"M 307.182813 241.58175 \r\nL 307.182813 240.732375 \r\nL 307.182813 24.991125 \r\nL 307.182813 24.14175 \r\nL 318.054813 24.14175 \r\nL 318.054813 24.991125 \r\nL 318.054813 240.732375 \r\nL 318.054813 241.58175 \r\nL 318.054813 241.58175 \r\nz\r\n\" style=\"fill:#e5e5e5;stroke:#e5e5e5;stroke-linejoin:miter;stroke-width:0.01;\"/>\r\n   </g>\r\n   <g id=\"matplotlib.axis_3\"/>\r\n   <g id=\"matplotlib.axis_4\">\r\n    <g id=\"ytick_3\">\r\n     <g id=\"line2d_9\">\r\n      <defs>\r\n       <path d=\"M 0 0 \r\nL 3.5 0 \r\n\" id=\"m122149670c\" style=\"stroke:#555555;stroke-width:0.8;\"/>\r\n      </defs>\r\n      <g>\r\n       <use style=\"fill:#555555;stroke:#555555;stroke-width:0.8;\" x=\"318.054813\" xlink:href=\"#m122149670c\" y=\"215.225386\"/>\r\n      </g>\r\n     </g>\r\n     <g id=\"text_12\">\r\n      <!-- 10 -->\r\n      <g style=\"fill:#555555;\" transform=\"translate(325.054813 219.024605)scale(0.1 -0.1)\">\r\n       <defs>\r\n        <path d=\"M 794 531 \r\nL 1825 531 \r\nL 1825 4091 \r\nL 703 3866 \r\nL 703 4441 \r\nL 1819 4666 \r\nL 2450 4666 \r\nL 2450 531 \r\nL 3481 531 \r\nL 3481 0 \r\nL 794 0 \r\nL 794 531 \r\nz\r\n\" id=\"DejaVuSans-31\" transform=\"scale(0.015625)\"/>\r\n        <path d=\"M 2034 4250 \r\nQ 1547 4250 1301 3770 \r\nQ 1056 3291 1056 2328 \r\nQ 1056 1369 1301 889 \r\nQ 1547 409 2034 409 \r\nQ 2525 409 2770 889 \r\nQ 3016 1369 3016 2328 \r\nQ 3016 3291 2770 3770 \r\nQ 2525 4250 2034 4250 \r\nz\r\nM 2034 4750 \r\nQ 2819 4750 3233 4129 \r\nQ 3647 3509 3647 2328 \r\nQ 3647 1150 3233 529 \r\nQ 2819 -91 2034 -91 \r\nQ 1250 -91 836 529 \r\nQ 422 1150 422 2328 \r\nQ 422 3509 836 4129 \r\nQ 1250 4750 2034 4750 \r\nz\r\n\" id=\"DejaVuSans-30\" transform=\"scale(0.015625)\"/>\r\n       </defs>\r\n       <use xlink:href=\"#DejaVuSans-31\"/>\r\n       <use x=\"63.623047\" xlink:href=\"#DejaVuSans-30\"/>\r\n      </g>\r\n     </g>\r\n    </g>\r\n    <g id=\"ytick_4\">\r\n     <g id=\"line2d_10\">\r\n      <g>\r\n       <use style=\"fill:#555555;stroke:#555555;stroke-width:0.8;\" x=\"318.054813\" xlink:href=\"#m122149670c\" y=\"182.279932\"/>\r\n      </g>\r\n     </g>\r\n     <g id=\"text_13\">\r\n      <!-- 20 -->\r\n      <g style=\"fill:#555555;\" transform=\"translate(325.054813 186.079151)scale(0.1 -0.1)\">\r\n       <use xlink:href=\"#DejaVuSans-32\"/>\r\n       <use x=\"63.623047\" xlink:href=\"#DejaVuSans-30\"/>\r\n      </g>\r\n     </g>\r\n    </g>\r\n    <g id=\"ytick_5\">\r\n     <g id=\"line2d_11\">\r\n      <g>\r\n       <use style=\"fill:#555555;stroke:#555555;stroke-width:0.8;\" x=\"318.054813\" xlink:href=\"#m122149670c\" y=\"149.334477\"/>\r\n      </g>\r\n     </g>\r\n     <g id=\"text_14\">\r\n      <!-- 30 -->\r\n      <g style=\"fill:#555555;\" transform=\"translate(325.054813 153.133696)scale(0.1 -0.1)\">\r\n       <use xlink:href=\"#DejaVuSans-33\"/>\r\n       <use x=\"63.623047\" xlink:href=\"#DejaVuSans-30\"/>\r\n      </g>\r\n     </g>\r\n    </g>\r\n    <g id=\"ytick_6\">\r\n     <g id=\"line2d_12\">\r\n      <g>\r\n       <use style=\"fill:#555555;stroke:#555555;stroke-width:0.8;\" x=\"318.054813\" xlink:href=\"#m122149670c\" y=\"116.389023\"/>\r\n      </g>\r\n     </g>\r\n     <g id=\"text_15\">\r\n      <!-- 40 -->\r\n      <g style=\"fill:#555555;\" transform=\"translate(325.054813 120.188241)scale(0.1 -0.1)\">\r\n       <defs>\r\n        <path d=\"M 2419 4116 \r\nL 825 1625 \r\nL 2419 1625 \r\nL 2419 4116 \r\nz\r\nM 2253 4666 \r\nL 3047 4666 \r\nL 3047 1625 \r\nL 3713 1625 \r\nL 3713 1100 \r\nL 3047 1100 \r\nL 3047 0 \r\nL 2419 0 \r\nL 2419 1100 \r\nL 313 1100 \r\nL 313 1709 \r\nL 2253 4666 \r\nz\r\n\" id=\"DejaVuSans-34\" transform=\"scale(0.015625)\"/>\r\n       </defs>\r\n       <use xlink:href=\"#DejaVuSans-34\"/>\r\n       <use x=\"63.623047\" xlink:href=\"#DejaVuSans-30\"/>\r\n      </g>\r\n     </g>\r\n    </g>\r\n    <g id=\"ytick_7\">\r\n     <g id=\"line2d_13\">\r\n      <g>\r\n       <use style=\"fill:#555555;stroke:#555555;stroke-width:0.8;\" x=\"318.054813\" xlink:href=\"#m122149670c\" y=\"83.443568\"/>\r\n      </g>\r\n     </g>\r\n     <g id=\"text_16\">\r\n      <!-- 50 -->\r\n      <g style=\"fill:#555555;\" transform=\"translate(325.054813 87.242787)scale(0.1 -0.1)\">\r\n       <defs>\r\n        <path d=\"M 691 4666 \r\nL 3169 4666 \r\nL 3169 4134 \r\nL 1269 4134 \r\nL 1269 2991 \r\nQ 1406 3038 1543 3061 \r\nQ 1681 3084 1819 3084 \r\nQ 2600 3084 3056 2656 \r\nQ 3513 2228 3513 1497 \r\nQ 3513 744 3044 326 \r\nQ 2575 -91 1722 -91 \r\nQ 1428 -91 1123 -41 \r\nQ 819 9 494 109 \r\nL 494 744 \r\nQ 775 591 1075 516 \r\nQ 1375 441 1709 441 \r\nQ 2250 441 2565 725 \r\nQ 2881 1009 2881 1497 \r\nQ 2881 1984 2565 2268 \r\nQ 2250 2553 1709 2553 \r\nQ 1456 2553 1204 2497 \r\nQ 953 2441 691 2322 \r\nL 691 4666 \r\nz\r\n\" id=\"DejaVuSans-35\" transform=\"scale(0.015625)\"/>\r\n       </defs>\r\n       <use xlink:href=\"#DejaVuSans-35\"/>\r\n       <use x=\"63.623047\" xlink:href=\"#DejaVuSans-30\"/>\r\n      </g>\r\n     </g>\r\n    </g>\r\n    <g id=\"ytick_8\">\r\n     <g id=\"line2d_14\">\r\n      <g>\r\n       <use style=\"fill:#555555;stroke:#555555;stroke-width:0.8;\" x=\"318.054813\" xlink:href=\"#m122149670c\" y=\"50.498114\"/>\r\n      </g>\r\n     </g>\r\n     <g id=\"text_17\">\r\n      <!-- 60 -->\r\n      <g style=\"fill:#555555;\" transform=\"translate(325.054813 54.297332)scale(0.1 -0.1)\">\r\n       <use xlink:href=\"#DejaVuSans-36\"/>\r\n       <use x=\"63.623047\" xlink:href=\"#DejaVuSans-30\"/>\r\n      </g>\r\n     </g>\r\n    </g>\r\n   </g>\r\n   <image height=\"218\" id=\"imagef8499f78cc\" transform=\"scale(1 -1)translate(0 -218)\" width=\"11\" x=\"307\" xlink:href=\"data:image/png;base64,\r\niVBORw0KGgoAAAANSUhEUgAAAAsAAADaCAYAAABwzrisAAABIUlEQVR4nO2YQQpDIRBDp8X7X7eLonbdna/wShT/OoSYiRn5j9d7zlr82jq0qs1aRzeArQawVDNAmzKIdYT5uQ6tagO5oU0QZgNoHoTZk+FZd3z4vd5A4U+pLy91G07whv+bGYBv+P8jI2SCaA96G9abYGe3OyJIQ5PBspHykkGaATN85Voy2AISww+YTTcAGE2wg0qC9ZVyuwHYdMNiZgfUrpW4Yb3wa8xeRL0gsfCvE5tlzlJHDujJEHcK0szciChG8c0fkg3NOq/5U7KhdZ0nQyzGsd7QKZpNNw4fN7uDp7vRwcNuywMyZnHcEWD02xAWo/b30vvNQg4YonnHcd9s/CwDWkfAoxNm5AbSjJg1GVu6kXFAsjTvuBOZmRuSjA8wveAVkTIdiAAAAABJRU5ErkJggg==\" y=\"-24\"/>\r\n   <g id=\"LineCollection_1\"/>\r\n   <g id=\"patch_9\">\r\n    <path d=\"M 307.182813 241.58175 \r\nL 307.182813 240.732375 \r\nL 307.182813 24.991125 \r\nL 307.182813 24.14175 \r\nL 318.054813 24.14175 \r\nL 318.054813 24.991125 \r\nL 318.054813 240.732375 \r\nL 318.054813 241.58175 \r\nz\r\n\" style=\"fill:none;stroke:#ffffff;stroke-linecap:square;stroke-linejoin:miter;\"/>\r\n   </g>\r\n  </g>\r\n </g>\r\n <defs>\r\n  <clipPath id=\"p31fc5ddeea\">\r\n   <rect height=\"217.44\" width=\"217.44\" x=\"73.002813\" y=\"24.14175\"/>\r\n  </clipPath>\r\n  <clipPath id=\"pbb8d7f547a\">\r\n   <rect height=\"217.44\" width=\"10.872\" x=\"307.182813\" y=\"24.14175\"/>\r\n  </clipPath>\r\n </defs>\r\n</svg>\r\n",
            "image/png": "[encoded data removed]"
          },
          "metadata": {}
        }
      ]
    },
    {
      "cell_type": "code",
      "metadata": {
        "id": "ceH-Nfkeg2cj"
      },
      "source": [],
      "execution_count": null,
      "outputs": []
    },
    {
      "cell_type": "code",
      "metadata": {
        "id": "1JacVS21hDpX"
      },
      "source": [],
      "execution_count": null,
      "outputs": []
    }
  ]
}